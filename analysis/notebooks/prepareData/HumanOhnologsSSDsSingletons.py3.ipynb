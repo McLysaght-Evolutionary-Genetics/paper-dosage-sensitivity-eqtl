{
 "cells": [
  {
   "cell_type": "markdown",
   "metadata": {},
   "source": [
    "# Create lists of ohnologs, small scale duplicates, and singletons in human"
   ]
  },
  {
   "cell_type": "markdown",
   "metadata": {},
   "source": [
    "## Analysis"
   ]
  },
  {
   "cell_type": "code",
   "execution_count": 1,
   "metadata": {},
   "outputs": [],
   "source": [
    "import pandas as pd"
   ]
  },
  {
   "cell_type": "markdown",
   "metadata": {},
   "source": [
    "### List of all human protein-coding genes from Ensembl GRCh37 site"
   ]
  },
  {
   "cell_type": "markdown",
   "metadata": {},
   "source": [
    "Ensembl human protein-coding genes on chromosomes 1-22+X+Y. Ensembl version 75 (last version that used human genome version GRCh37)"
   ]
  },
  {
   "cell_type": "code",
   "execution_count": 2,
   "metadata": {},
   "outputs": [
    {
     "data": {
      "text/html": [
       "<div>\n",
       "<style scoped>\n",
       "    .dataframe tbody tr th:only-of-type {\n",
       "        vertical-align: middle;\n",
       "    }\n",
       "\n",
       "    .dataframe tbody tr th {\n",
       "        vertical-align: top;\n",
       "    }\n",
       "\n",
       "    .dataframe thead th {\n",
       "        text-align: right;\n",
       "    }\n",
       "</style>\n",
       "<table border=\"1\" class=\"dataframe\">\n",
       "  <thead>\n",
       "    <tr style=\"text-align: right;\">\n",
       "      <th></th>\n",
       "      <th>Ensembl Gene ID</th>\n",
       "    </tr>\n",
       "  </thead>\n",
       "  <tbody>\n",
       "    <tr>\n",
       "      <th>0</th>\n",
       "      <td>ENSG00000215405</td>\n",
       "    </tr>\n",
       "    <tr>\n",
       "      <th>1</th>\n",
       "      <td>ENSG00000268343</td>\n",
       "    </tr>\n",
       "    <tr>\n",
       "      <th>2</th>\n",
       "      <td>ENSG00000230031</td>\n",
       "    </tr>\n",
       "    <tr>\n",
       "      <th>3</th>\n",
       "      <td>ENSG00000138593</td>\n",
       "    </tr>\n",
       "    <tr>\n",
       "      <th>4</th>\n",
       "      <td>ENSG00000268531</td>\n",
       "    </tr>\n",
       "  </tbody>\n",
       "</table>\n",
       "</div>"
      ],
      "text/plain": [
       "   Ensembl Gene ID\n",
       "0  ENSG00000215405\n",
       "1  ENSG00000268343\n",
       "2  ENSG00000230031\n",
       "3  ENSG00000138593\n",
       "4  ENSG00000268531"
      ]
     },
     "execution_count": 2,
     "metadata": {},
     "output_type": "execute_result"
    }
   ],
   "source": [
    "EnsV75ProteinCodingGenes1Y = pd.read_csv('../../datasets/geneLists/Ensembl/EnsV75ProteinCodingGenes1-Y.txt', sep=\"\\t\")\n",
    "EnsV75ProteinCodingGenes1Y = EnsV75ProteinCodingGenes1Y[['Ensembl Gene ID']]\n",
    "EnsV75ProteinCodingGenes1Y.head()"
   ]
  },
  {
   "cell_type": "code",
   "execution_count": 3,
   "metadata": {},
   "outputs": [
    {
     "data": {
      "text/plain": [
       "20314"
      ]
     },
     "execution_count": 3,
     "metadata": {},
     "output_type": "execute_result"
    }
   ],
   "source": [
    "len(EnsV75ProteinCodingGenes1Y)"
   ]
  },
  {
   "cell_type": "markdown",
   "metadata": {},
   "source": [
    "### Get list of human paralogs"
   ]
  },
  {
   "cell_type": "markdown",
   "metadata": {},
   "source": [
    "Ensembl human paralogs from version 75"
   ]
  },
  {
   "cell_type": "code",
   "execution_count": 4,
   "metadata": {},
   "outputs": [
    {
     "data": {
      "text/html": [
       "<div>\n",
       "<style scoped>\n",
       "    .dataframe tbody tr th:only-of-type {\n",
       "        vertical-align: middle;\n",
       "    }\n",
       "\n",
       "    .dataframe tbody tr th {\n",
       "        vertical-align: top;\n",
       "    }\n",
       "\n",
       "    .dataframe thead th {\n",
       "        text-align: right;\n",
       "    }\n",
       "</style>\n",
       "<table border=\"1\" class=\"dataframe\">\n",
       "  <thead>\n",
       "    <tr style=\"text-align: right;\">\n",
       "      <th></th>\n",
       "      <th>Ensembl Gene ID</th>\n",
       "      <th>Human Paralog Ensembl Gene ID</th>\n",
       "      <th>Homology Type</th>\n",
       "      <th>Ancestor</th>\n",
       "    </tr>\n",
       "  </thead>\n",
       "  <tbody>\n",
       "    <tr>\n",
       "      <th>0</th>\n",
       "      <td>ENSG00000215405</td>\n",
       "      <td>ENSG00000259455</td>\n",
       "      <td>within_species_paralog</td>\n",
       "      <td>Homo sapiens</td>\n",
       "    </tr>\n",
       "    <tr>\n",
       "      <th>1</th>\n",
       "      <td>ENSG00000215405</td>\n",
       "      <td>ENSG00000197414</td>\n",
       "      <td>within_species_paralog</td>\n",
       "      <td>Homo sapiens</td>\n",
       "    </tr>\n",
       "    <tr>\n",
       "      <th>2</th>\n",
       "      <td>ENSG00000215405</td>\n",
       "      <td>ENSG00000174450</td>\n",
       "      <td>within_species_paralog</td>\n",
       "      <td>Hominoidea</td>\n",
       "    </tr>\n",
       "    <tr>\n",
       "      <th>3</th>\n",
       "      <td>ENSG00000215405</td>\n",
       "      <td>ENSG00000175265</td>\n",
       "      <td>within_species_paralog</td>\n",
       "      <td>Euarchontoglires</td>\n",
       "    </tr>\n",
       "    <tr>\n",
       "      <th>4</th>\n",
       "      <td>ENSG00000215405</td>\n",
       "      <td>ENSG00000215252</td>\n",
       "      <td>within_species_paralog</td>\n",
       "      <td>Euarchontoglires</td>\n",
       "    </tr>\n",
       "  </tbody>\n",
       "</table>\n",
       "</div>"
      ],
      "text/plain": [
       "   Ensembl Gene ID Human Paralog Ensembl Gene ID           Homology Type  \\\n",
       "0  ENSG00000215405               ENSG00000259455  within_species_paralog   \n",
       "1  ENSG00000215405               ENSG00000197414  within_species_paralog   \n",
       "2  ENSG00000215405               ENSG00000174450  within_species_paralog   \n",
       "3  ENSG00000215405               ENSG00000175265  within_species_paralog   \n",
       "4  ENSG00000215405               ENSG00000215252  within_species_paralog   \n",
       "\n",
       "           Ancestor  \n",
       "0      Homo sapiens  \n",
       "1      Homo sapiens  \n",
       "2        Hominoidea  \n",
       "3  Euarchontoglires  \n",
       "4  Euarchontoglires  "
      ]
     },
     "execution_count": 4,
     "metadata": {},
     "output_type": "execute_result"
    }
   ],
   "source": [
    "humanParalogs = pd.read_csv('../../datasets/geneLists/Ensembl/EnsV75HumanParalogs.txt', sep=\"\\t\")\n",
    "humanParalogs.head()"
   ]
  },
  {
   "cell_type": "code",
   "execution_count": 5,
   "metadata": {},
   "outputs": [
    {
     "data": {
      "text/plain": [
       "99258"
      ]
     },
     "execution_count": 5,
     "metadata": {},
     "output_type": "execute_result"
    }
   ],
   "source": [
    "len(humanParalogs)"
   ]
  },
  {
   "cell_type": "markdown",
   "metadata": {},
   "source": [
    "Concatenate column 1 and 2 and unique to get a list of human paralogs"
   ]
  },
  {
   "cell_type": "code",
   "execution_count": 6,
   "metadata": {},
   "outputs": [
    {
     "data": {
      "text/html": [
       "<div>\n",
       "<style scoped>\n",
       "    .dataframe tbody tr th:only-of-type {\n",
       "        vertical-align: middle;\n",
       "    }\n",
       "\n",
       "    .dataframe tbody tr th {\n",
       "        vertical-align: top;\n",
       "    }\n",
       "\n",
       "    .dataframe thead th {\n",
       "        text-align: right;\n",
       "    }\n",
       "</style>\n",
       "<table border=\"1\" class=\"dataframe\">\n",
       "  <thead>\n",
       "    <tr style=\"text-align: right;\">\n",
       "      <th></th>\n",
       "      <th>Ensembl Gene ID</th>\n",
       "    </tr>\n",
       "  </thead>\n",
       "  <tbody>\n",
       "    <tr>\n",
       "      <th>0</th>\n",
       "      <td>ENSG00000215405</td>\n",
       "    </tr>\n",
       "    <tr>\n",
       "      <th>1</th>\n",
       "      <td>ENSG00000268343</td>\n",
       "    </tr>\n",
       "    <tr>\n",
       "      <th>2</th>\n",
       "      <td>ENSG00000230031</td>\n",
       "    </tr>\n",
       "    <tr>\n",
       "      <th>3</th>\n",
       "      <td>ENSG00000138593</td>\n",
       "    </tr>\n",
       "    <tr>\n",
       "      <th>4</th>\n",
       "      <td>ENSG00000268531</td>\n",
       "    </tr>\n",
       "  </tbody>\n",
       "</table>\n",
       "</div>"
      ],
      "text/plain": [
       "   Ensembl Gene ID\n",
       "0  ENSG00000215405\n",
       "1  ENSG00000268343\n",
       "2  ENSG00000230031\n",
       "3  ENSG00000138593\n",
       "4  ENSG00000268531"
      ]
     },
     "execution_count": 6,
     "metadata": {},
     "output_type": "execute_result"
    }
   ],
   "source": [
    "duplicates = pd.DataFrame(pd.concat([humanParalogs[['Ensembl Gene ID']],\n",
    "               humanParalogs[['Human Paralog Ensembl Gene ID']].rename(columns={'Human Paralog Ensembl Gene ID': 'Ensembl Gene ID'})]).reset_index()['Ensembl Gene ID'].unique())\n",
    "duplicates.rename(columns={0: 'Ensembl Gene ID'}, inplace=True)\n",
    "duplicates = pd.merge(duplicates, EnsV75ProteinCodingGenes1Y, how='inner')\n",
    "duplicates.head()"
   ]
  },
  {
   "cell_type": "code",
   "execution_count": 7,
   "metadata": {},
   "outputs": [
    {
     "data": {
      "text/plain": [
       "14184"
      ]
     },
     "execution_count": 7,
     "metadata": {},
     "output_type": "execute_result"
    }
   ],
   "source": [
    "len(duplicates)"
   ]
  },
  {
   "cell_type": "markdown",
   "metadata": {},
   "source": [
    "### Ohnolog lists from Singh and Isambert (2019)\n",
    "\n",
    "Three lists available:\n",
    "* Strict:             q-score(outgroup) < 0.001 AND q-score(self) < 0.001\n",
    "* Intermediate: q-score(outgroup) < 0.01 AND q-score(self) < 0.01\n",
    "* Relaxed:         q-score(outgroup) < 0.05 AND q-score(self) < 0.3"
   ]
  },
  {
   "cell_type": "code",
   "execution_count": 8,
   "metadata": {},
   "outputs": [
    {
     "data": {
      "text/html": [
       "<div>\n",
       "<style scoped>\n",
       "    .dataframe tbody tr th:only-of-type {\n",
       "        vertical-align: middle;\n",
       "    }\n",
       "\n",
       "    .dataframe tbody tr th {\n",
       "        vertical-align: top;\n",
       "    }\n",
       "\n",
       "    .dataframe thead th {\n",
       "        text-align: right;\n",
       "    }\n",
       "</style>\n",
       "<table border=\"1\" class=\"dataframe\">\n",
       "  <thead>\n",
       "    <tr style=\"text-align: right;\">\n",
       "      <th></th>\n",
       "      <th>Ensembl Gene ID</th>\n",
       "    </tr>\n",
       "  </thead>\n",
       "  <tbody>\n",
       "    <tr>\n",
       "      <th>0</th>\n",
       "      <td>ENSG00000164236</td>\n",
       "    </tr>\n",
       "    <tr>\n",
       "      <th>1</th>\n",
       "      <td>ENSG00000147465</td>\n",
       "    </tr>\n",
       "    <tr>\n",
       "      <th>2</th>\n",
       "      <td>ENSG00000095464</td>\n",
       "    </tr>\n",
       "    <tr>\n",
       "      <th>3</th>\n",
       "      <td>ENSG00000078804</td>\n",
       "    </tr>\n",
       "    <tr>\n",
       "      <th>4</th>\n",
       "      <td>ENSG00000155744</td>\n",
       "    </tr>\n",
       "  </tbody>\n",
       "</table>\n",
       "</div>"
      ],
      "text/plain": [
       "   Ensembl Gene ID\n",
       "0  ENSG00000164236\n",
       "1  ENSG00000147465\n",
       "2  ENSG00000095464\n",
       "3  ENSG00000078804\n",
       "4  ENSG00000155744"
      ]
     },
     "execution_count": 8,
     "metadata": {},
     "output_type": "execute_result"
    }
   ],
   "source": [
    "strict = pd.read_csv('../../datasets/geneLists/Singh and Isambert/hsapiens.Pairs.Strict.2R.txt', sep=\"\\t\")\n",
    "strict = pd.DataFrame(pd.concat([strict[['Ohno1']],\n",
    "           strict[['Ohno2']].rename(columns={'Ohno2': 'Ohno1'})]).reset_index()['Ohno1'].unique())\n",
    "strict.rename(columns={0: 'Ensembl Gene ID'}, inplace=True)\n",
    "strict.head()"
   ]
  },
  {
   "cell_type": "code",
   "execution_count": 9,
   "metadata": {},
   "outputs": [
    {
     "data": {
      "text/plain": [
       "4940"
      ]
     },
     "execution_count": 9,
     "metadata": {},
     "output_type": "execute_result"
    }
   ],
   "source": [
    "len(strict)"
   ]
  },
  {
   "cell_type": "code",
   "execution_count": 10,
   "metadata": {},
   "outputs": [
    {
     "data": {
      "text/html": [
       "<div>\n",
       "<style scoped>\n",
       "    .dataframe tbody tr th:only-of-type {\n",
       "        vertical-align: middle;\n",
       "    }\n",
       "\n",
       "    .dataframe tbody tr th {\n",
       "        vertical-align: top;\n",
       "    }\n",
       "\n",
       "    .dataframe thead th {\n",
       "        text-align: right;\n",
       "    }\n",
       "</style>\n",
       "<table border=\"1\" class=\"dataframe\">\n",
       "  <thead>\n",
       "    <tr style=\"text-align: right;\">\n",
       "      <th></th>\n",
       "      <th>Ensembl Gene ID</th>\n",
       "    </tr>\n",
       "  </thead>\n",
       "  <tbody>\n",
       "    <tr>\n",
       "      <th>0</th>\n",
       "      <td>ENSG00000164236</td>\n",
       "    </tr>\n",
       "    <tr>\n",
       "      <th>1</th>\n",
       "      <td>ENSG00000147465</td>\n",
       "    </tr>\n",
       "    <tr>\n",
       "      <th>2</th>\n",
       "      <td>ENSG00000095464</td>\n",
       "    </tr>\n",
       "    <tr>\n",
       "      <th>3</th>\n",
       "      <td>ENSG00000078804</td>\n",
       "    </tr>\n",
       "    <tr>\n",
       "      <th>4</th>\n",
       "      <td>ENSG00000155744</td>\n",
       "    </tr>\n",
       "  </tbody>\n",
       "</table>\n",
       "</div>"
      ],
      "text/plain": [
       "   Ensembl Gene ID\n",
       "0  ENSG00000164236\n",
       "1  ENSG00000147465\n",
       "2  ENSG00000095464\n",
       "3  ENSG00000078804\n",
       "4  ENSG00000155744"
      ]
     },
     "execution_count": 10,
     "metadata": {},
     "output_type": "execute_result"
    }
   ],
   "source": [
    "intermediate = pd.read_csv('../../datasets/geneLists/Singh and Isambert/hsapiens.Pairs.Intermediate.2R.txt', sep=\"\\t\")\n",
    "intermediate = pd.DataFrame(pd.concat([intermediate[['Ohno1']],\n",
    "           intermediate[['Ohno2']].rename(columns={'Ohno2': 'Ohno1'})]).reset_index()['Ohno1'].unique())\n",
    "intermediate.rename(columns={0: 'Ensembl Gene ID'}, inplace=True)\n",
    "intermediate.head()"
   ]
  },
  {
   "cell_type": "code",
   "execution_count": 11,
   "metadata": {},
   "outputs": [
    {
     "data": {
      "text/plain": [
       "5964"
      ]
     },
     "execution_count": 11,
     "metadata": {},
     "output_type": "execute_result"
    }
   ],
   "source": [
    "len(intermediate)"
   ]
  },
  {
   "cell_type": "code",
   "execution_count": 12,
   "metadata": {},
   "outputs": [
    {
     "data": {
      "text/html": [
       "<div>\n",
       "<style scoped>\n",
       "    .dataframe tbody tr th:only-of-type {\n",
       "        vertical-align: middle;\n",
       "    }\n",
       "\n",
       "    .dataframe tbody tr th {\n",
       "        vertical-align: top;\n",
       "    }\n",
       "\n",
       "    .dataframe thead th {\n",
       "        text-align: right;\n",
       "    }\n",
       "</style>\n",
       "<table border=\"1\" class=\"dataframe\">\n",
       "  <thead>\n",
       "    <tr style=\"text-align: right;\">\n",
       "      <th></th>\n",
       "      <th>Ensembl Gene ID</th>\n",
       "    </tr>\n",
       "  </thead>\n",
       "  <tbody>\n",
       "    <tr>\n",
       "      <th>0</th>\n",
       "      <td>ENSG00000164236</td>\n",
       "    </tr>\n",
       "    <tr>\n",
       "      <th>1</th>\n",
       "      <td>ENSG00000147465</td>\n",
       "    </tr>\n",
       "    <tr>\n",
       "      <th>2</th>\n",
       "      <td>ENSG00000095464</td>\n",
       "    </tr>\n",
       "    <tr>\n",
       "      <th>3</th>\n",
       "      <td>ENSG00000078804</td>\n",
       "    </tr>\n",
       "    <tr>\n",
       "      <th>4</th>\n",
       "      <td>ENSG00000155744</td>\n",
       "    </tr>\n",
       "  </tbody>\n",
       "</table>\n",
       "</div>"
      ],
      "text/plain": [
       "   Ensembl Gene ID\n",
       "0  ENSG00000164236\n",
       "1  ENSG00000147465\n",
       "2  ENSG00000095464\n",
       "3  ENSG00000078804\n",
       "4  ENSG00000155744"
      ]
     },
     "execution_count": 12,
     "metadata": {},
     "output_type": "execute_result"
    }
   ],
   "source": [
    "relaxed = pd.read_csv('../../datasets/geneLists/Singh and Isambert/hsapiens.Pairs.Relaxed.2R.txt', sep=\"\\t\")\n",
    "relaxed = pd.DataFrame(pd.concat([relaxed[['Ohno1']],\n",
    "           relaxed[['Ohno2']].rename(columns={'Ohno2': 'Ohno1'})]).reset_index()['Ohno1'].unique())\n",
    "relaxed.rename(columns={0: 'Ensembl Gene ID'}, inplace=True)\n",
    "relaxed.head()"
   ]
  },
  {
   "cell_type": "code",
   "execution_count": 13,
   "metadata": {},
   "outputs": [
    {
     "data": {
      "text/plain": [
       "6870"
      ]
     },
     "execution_count": 13,
     "metadata": {},
     "output_type": "execute_result"
    }
   ],
   "source": [
    "len(relaxed)"
   ]
  },
  {
   "cell_type": "markdown",
   "metadata": {},
   "source": [
    "### Make list of ohnologs, SSDs and singletons"
   ]
  },
  {
   "cell_type": "markdown",
   "metadata": {},
   "source": [
    "#### Ensure Singh ohnologs are on Ensembl V75 gene list and listed as a paralog"
   ]
  },
  {
   "cell_type": "code",
   "execution_count": 14,
   "metadata": {},
   "outputs": [
    {
     "data": {
      "text/plain": [
       "4833"
      ]
     },
     "execution_count": 14,
     "metadata": {},
     "output_type": "execute_result"
    }
   ],
   "source": [
    "strictEns = pd.merge(strict, EnsV75ProteinCodingGenes1Y, how='inner')\n",
    "strictEns = pd.merge(strictEns, duplicates, how='inner')\n",
    "strictEns.to_csv('../../datasets/geneLists/Singh and Isambert/hsapiens.Pairs.Strict.2R.Ens75.1-Y.txt', sep='\\t', index=False)\n",
    "len(strictEns)"
   ]
  },
  {
   "cell_type": "code",
   "execution_count": 15,
   "metadata": {},
   "outputs": [
    {
     "data": {
      "text/plain": [
       "5823"
      ]
     },
     "execution_count": 15,
     "metadata": {},
     "output_type": "execute_result"
    }
   ],
   "source": [
    "intermediateEns = pd.merge(intermediate, EnsV75ProteinCodingGenes1Y, how='inner')\n",
    "intermediateEns = pd.merge(intermediateEns, duplicates, how='inner')\n",
    "intermediateEns.to_csv('../../datasets/geneLists/Singh and Isambert/hsapiens.Pairs.Intermediate.2R.Ens75.1-Y.txt', sep='\\t', index=False)\n",
    "len(intermediateEns)"
   ]
  },
  {
   "cell_type": "code",
   "execution_count": 16,
   "metadata": {},
   "outputs": [
    {
     "data": {
      "text/plain": [
       "6693"
      ]
     },
     "execution_count": 16,
     "metadata": {},
     "output_type": "execute_result"
    }
   ],
   "source": [
    "relaxedEns = pd.merge(relaxed, EnsV75ProteinCodingGenes1Y, how='inner')\n",
    "relaxedEns = pd.merge(relaxedEns, duplicates, how='inner')\n",
    "relaxedEns.to_csv('../../datasets/geneLists/Singh and Isambert/hsapiens.Pairs.Relaxed.2R.Ens75.1-Y.txt', sep='\\t', index=False)\n",
    "len(relaxedEns)"
   ]
  },
  {
   "cell_type": "markdown",
   "metadata": {},
   "source": [
    "#### Get list of SSDs at different stringency levels"
   ]
  },
  {
   "cell_type": "code",
   "execution_count": 17,
   "metadata": {},
   "outputs": [
    {
     "data": {
      "text/plain": [
       "9351"
      ]
     },
     "execution_count": 17,
     "metadata": {},
     "output_type": "execute_result"
    }
   ],
   "source": [
    "SSDsStrictOhnos = duplicates.loc[~duplicates['Ensembl Gene ID'].isin(strictEns['Ensembl Gene ID'])]\n",
    "SSDsStrictOhnos.to_csv('../../datasets/geneLists/SSDsStrictOhnos.txt', sep='\\t', index=False)\n",
    "len(SSDsStrictOhnos)"
   ]
  },
  {
   "cell_type": "code",
   "execution_count": 18,
   "metadata": {},
   "outputs": [
    {
     "data": {
      "text/plain": [
       "8361"
      ]
     },
     "execution_count": 18,
     "metadata": {},
     "output_type": "execute_result"
    }
   ],
   "source": [
    "SSDsIntermediateOhnos = duplicates.loc[~duplicates['Ensembl Gene ID'].isin(intermediateEns['Ensembl Gene ID'])]\n",
    "SSDsIntermediateOhnos.to_csv('../../datasets/geneLists/SSDsIntermediateOhnos.txt', sep='\\t', index=False)\n",
    "len(SSDsIntermediateOhnos)"
   ]
  },
  {
   "cell_type": "code",
   "execution_count": 19,
   "metadata": {},
   "outputs": [
    {
     "data": {
      "text/plain": [
       "7491"
      ]
     },
     "execution_count": 19,
     "metadata": {},
     "output_type": "execute_result"
    }
   ],
   "source": [
    "SSDsRelaxedOhnos = duplicates.loc[~duplicates['Ensembl Gene ID'].isin(relaxedEns['Ensembl Gene ID'])]\n",
    "SSDsRelaxedOhnos.to_csv('../../datasets/geneLists/SSDsRelaxedOhnos.txt', sep='\\t', index=False)\n",
    "len(SSDsRelaxedOhnos)"
   ]
  },
  {
   "cell_type": "markdown",
   "metadata": {},
   "source": [
    "#### Get list of singletons"
   ]
  },
  {
   "cell_type": "code",
   "execution_count": 20,
   "metadata": {},
   "outputs": [
    {
     "data": {
      "text/plain": [
       "6130"
      ]
     },
     "execution_count": 20,
     "metadata": {},
     "output_type": "execute_result"
    }
   ],
   "source": [
    "singletons = EnsV75ProteinCodingGenes1Y.loc[~EnsV75ProteinCodingGenes1Y['Ensembl Gene ID'].isin(duplicates['Ensembl Gene ID'])]\n",
    "singletons.to_csv('../../datasets/geneLists/singletons.txt', sep='\\t', index=False)\n",
    "len(singletons)"
   ]
  },
  {
   "cell_type": "markdown",
   "metadata": {},
   "source": [
    "## Cow genes"
   ]
  },
  {
   "cell_type": "markdown",
   "metadata": {},
   "source": [
    "### List of all human protein-coding genes from Ensembl GRCh37 site"
   ]
  },
  {
   "cell_type": "markdown",
   "metadata": {},
   "source": [
    "Ensembl human protein-coding genes on chromosomes 1-22+X+Y. Ensembl version 75 (last version that used human genome version GRCh37)"
   ]
  },
  {
   "cell_type": "code",
   "execution_count": 4,
   "metadata": {},
   "outputs": [
    {
     "data": {
      "text/html": [
       "<div>\n",
       "<style scoped>\n",
       "    .dataframe tbody tr th:only-of-type {\n",
       "        vertical-align: middle;\n",
       "    }\n",
       "\n",
       "    .dataframe tbody tr th {\n",
       "        vertical-align: top;\n",
       "    }\n",
       "\n",
       "    .dataframe thead th {\n",
       "        text-align: right;\n",
       "    }\n",
       "</style>\n",
       "<table border=\"1\" class=\"dataframe\">\n",
       "  <thead>\n",
       "    <tr style=\"text-align: right;\">\n",
       "      <th></th>\n",
       "      <th>Ensembl Gene ID</th>\n",
       "    </tr>\n",
       "  </thead>\n",
       "  <tbody>\n",
       "    <tr>\n",
       "      <th>0</th>\n",
       "      <td>ENSBTAG00000006648</td>\n",
       "    </tr>\n",
       "    <tr>\n",
       "      <th>1</th>\n",
       "      <td>ENSBTAG00000054829</td>\n",
       "    </tr>\n",
       "    <tr>\n",
       "      <th>2</th>\n",
       "      <td>ENSBTAG00000001753</td>\n",
       "    </tr>\n",
       "    <tr>\n",
       "      <th>3</th>\n",
       "      <td>ENSBTAG00000046015</td>\n",
       "    </tr>\n",
       "    <tr>\n",
       "      <th>4</th>\n",
       "      <td>ENSBTAG00000021251</td>\n",
       "    </tr>\n",
       "  </tbody>\n",
       "</table>\n",
       "</div>"
      ],
      "text/plain": [
       "      Ensembl Gene ID\n",
       "0  ENSBTAG00000006648\n",
       "1  ENSBTAG00000054829\n",
       "2  ENSBTAG00000001753\n",
       "3  ENSBTAG00000046015\n",
       "4  ENSBTAG00000021251"
      ]
     },
     "execution_count": 4,
     "metadata": {},
     "output_type": "execute_result"
    }
   ],
   "source": [
    "EnsV96CowProteinCodingGenes1X = pd.read_csv('../../datasets/geneLists/Ensembl/CowV96/EnsV96CowProteinCodingGenes1-X.txt', sep=\"\\t\")\n",
    "EnsV96CowProteinCodingGenes1X = EnsV96CowProteinCodingGenes1X[['Gene stable ID']]\n",
    "EnsV96CowProteinCodingGenes1X.rename(columns={'Gene stable ID': 'Ensembl Gene ID'}, inplace=True)\n",
    "EnsV96CowProteinCodingGenes1X.head()"
   ]
  },
  {
   "cell_type": "code",
   "execution_count": 5,
   "metadata": {},
   "outputs": [
    {
     "data": {
      "text/plain": [
       "21630"
      ]
     },
     "execution_count": 5,
     "metadata": {},
     "output_type": "execute_result"
    }
   ],
   "source": [
    "len(EnsV96CowProteinCodingGenes1X)"
   ]
  },
  {
   "cell_type": "markdown",
   "metadata": {},
   "source": [
    "### Get list of human paralogs"
   ]
  },
  {
   "cell_type": "markdown",
   "metadata": {},
   "source": [
    "Ensembl human paralogs from version 75"
   ]
  },
  {
   "cell_type": "code",
   "execution_count": 11,
   "metadata": {},
   "outputs": [
    {
     "data": {
      "text/html": [
       "<div>\n",
       "<style scoped>\n",
       "    .dataframe tbody tr th:only-of-type {\n",
       "        vertical-align: middle;\n",
       "    }\n",
       "\n",
       "    .dataframe tbody tr th {\n",
       "        vertical-align: top;\n",
       "    }\n",
       "\n",
       "    .dataframe thead th {\n",
       "        text-align: right;\n",
       "    }\n",
       "</style>\n",
       "<table border=\"1\" class=\"dataframe\">\n",
       "  <thead>\n",
       "    <tr style=\"text-align: right;\">\n",
       "      <th></th>\n",
       "      <th>Gene stable ID</th>\n",
       "      <th>Cow paralogue gene stable ID</th>\n",
       "      <th>Cow paralogue homology type</th>\n",
       "      <th>Paralogue last common ancestor with Cow</th>\n",
       "    </tr>\n",
       "  </thead>\n",
       "  <tbody>\n",
       "    <tr>\n",
       "      <th>0</th>\n",
       "      <td>ENSBTAG00000006648</td>\n",
       "      <td>ENSBTAG00000040490</td>\n",
       "      <td>within_species_paralog</td>\n",
       "      <td>Eutheria</td>\n",
       "    </tr>\n",
       "    <tr>\n",
       "      <th>1</th>\n",
       "      <td>ENSBTAG00000006648</td>\n",
       "      <td>ENSBTAG00000054829</td>\n",
       "      <td>within_species_paralog</td>\n",
       "      <td>Eutheria</td>\n",
       "    </tr>\n",
       "    <tr>\n",
       "      <th>2</th>\n",
       "      <td>ENSBTAG00000054829</td>\n",
       "      <td>ENSBTAG00000040490</td>\n",
       "      <td>within_species_paralog</td>\n",
       "      <td>Eutheria</td>\n",
       "    </tr>\n",
       "    <tr>\n",
       "      <th>3</th>\n",
       "      <td>ENSBTAG00000054829</td>\n",
       "      <td>ENSBTAG00000006648</td>\n",
       "      <td>within_species_paralog</td>\n",
       "      <td>Eutheria</td>\n",
       "    </tr>\n",
       "    <tr>\n",
       "      <th>4</th>\n",
       "      <td>ENSBTAG00000001753</td>\n",
       "      <td>ENSBTAG00000000170</td>\n",
       "      <td>other_paralog</td>\n",
       "      <td>Opisthokonta</td>\n",
       "    </tr>\n",
       "  </tbody>\n",
       "</table>\n",
       "</div>"
      ],
      "text/plain": [
       "       Gene stable ID Cow paralogue gene stable ID  \\\n",
       "0  ENSBTAG00000006648           ENSBTAG00000040490   \n",
       "1  ENSBTAG00000006648           ENSBTAG00000054829   \n",
       "2  ENSBTAG00000054829           ENSBTAG00000040490   \n",
       "3  ENSBTAG00000054829           ENSBTAG00000006648   \n",
       "4  ENSBTAG00000001753           ENSBTAG00000000170   \n",
       "\n",
       "  Cow paralogue homology type Paralogue last common ancestor with Cow  \n",
       "0      within_species_paralog                                Eutheria  \n",
       "1      within_species_paralog                                Eutheria  \n",
       "2      within_species_paralog                                Eutheria  \n",
       "3      within_species_paralog                                Eutheria  \n",
       "4               other_paralog                            Opisthokonta  "
      ]
     },
     "execution_count": 11,
     "metadata": {},
     "output_type": "execute_result"
    }
   ],
   "source": [
    "cowParalogs = pd.read_csv('../../datasets/geneLists/Ensembl/CowV96/EnsV96CowParalogs.txt', sep=\"\\t\")\n",
    "cowParalogs.dropna(subset=['Gene stable ID', 'Cow paralogue gene stable ID'], inplace=True)\n",
    "cowParalogs.head()"
   ]
  },
  {
   "cell_type": "code",
   "execution_count": 12,
   "metadata": {},
   "outputs": [
    {
     "data": {
      "text/plain": [
       "564767"
      ]
     },
     "execution_count": 12,
     "metadata": {},
     "output_type": "execute_result"
    }
   ],
   "source": [
    "len(cowParalogs)"
   ]
  },
  {
   "cell_type": "code",
   "execution_count": 13,
   "metadata": {},
   "outputs": [
    {
     "data": {
      "text/html": [
       "<div>\n",
       "<style scoped>\n",
       "    .dataframe tbody tr th:only-of-type {\n",
       "        vertical-align: middle;\n",
       "    }\n",
       "\n",
       "    .dataframe tbody tr th {\n",
       "        vertical-align: top;\n",
       "    }\n",
       "\n",
       "    .dataframe thead th {\n",
       "        text-align: right;\n",
       "    }\n",
       "</style>\n",
       "<table border=\"1\" class=\"dataframe\">\n",
       "  <thead>\n",
       "    <tr style=\"text-align: right;\">\n",
       "      <th></th>\n",
       "      <th>Gene stable ID</th>\n",
       "      <th>Cow paralogue gene stable ID</th>\n",
       "      <th>Cow paralogue homology type</th>\n",
       "      <th>Paralogue last common ancestor with Cow</th>\n",
       "    </tr>\n",
       "  </thead>\n",
       "  <tbody>\n",
       "    <tr>\n",
       "      <th>0</th>\n",
       "      <td>ENSBTAG00000006648</td>\n",
       "      <td>ENSBTAG00000040490</td>\n",
       "      <td>within_species_paralog</td>\n",
       "      <td>Eutheria</td>\n",
       "    </tr>\n",
       "    <tr>\n",
       "      <th>1</th>\n",
       "      <td>ENSBTAG00000006648</td>\n",
       "      <td>ENSBTAG00000054829</td>\n",
       "      <td>within_species_paralog</td>\n",
       "      <td>Eutheria</td>\n",
       "    </tr>\n",
       "    <tr>\n",
       "      <th>2</th>\n",
       "      <td>ENSBTAG00000054829</td>\n",
       "      <td>ENSBTAG00000040490</td>\n",
       "      <td>within_species_paralog</td>\n",
       "      <td>Eutheria</td>\n",
       "    </tr>\n",
       "    <tr>\n",
       "      <th>3</th>\n",
       "      <td>ENSBTAG00000054829</td>\n",
       "      <td>ENSBTAG00000006648</td>\n",
       "      <td>within_species_paralog</td>\n",
       "      <td>Eutheria</td>\n",
       "    </tr>\n",
       "    <tr>\n",
       "      <th>4</th>\n",
       "      <td>ENSBTAG00000001753</td>\n",
       "      <td>ENSBTAG00000000170</td>\n",
       "      <td>other_paralog</td>\n",
       "      <td>Opisthokonta</td>\n",
       "    </tr>\n",
       "    <tr>\n",
       "      <th>5</th>\n",
       "      <td>ENSBTAG00000001753</td>\n",
       "      <td>ENSBTAG00000053662</td>\n",
       "      <td>other_paralog</td>\n",
       "      <td>Opisthokonta</td>\n",
       "    </tr>\n",
       "    <tr>\n",
       "      <th>6</th>\n",
       "      <td>ENSBTAG00000001753</td>\n",
       "      <td>ENSBTAG00000011843</td>\n",
       "      <td>other_paralog</td>\n",
       "      <td>Opisthokonta</td>\n",
       "    </tr>\n",
       "    <tr>\n",
       "      <th>7</th>\n",
       "      <td>ENSBTAG00000001753</td>\n",
       "      <td>ENSBTAG00000003989</td>\n",
       "      <td>other_paralog</td>\n",
       "      <td>Opisthokonta</td>\n",
       "    </tr>\n",
       "    <tr>\n",
       "      <th>8</th>\n",
       "      <td>ENSBTAG00000001753</td>\n",
       "      <td>ENSBTAG00000038540</td>\n",
       "      <td>other_paralog</td>\n",
       "      <td>Opisthokonta</td>\n",
       "    </tr>\n",
       "    <tr>\n",
       "      <th>9</th>\n",
       "      <td>ENSBTAG00000001753</td>\n",
       "      <td>ENSBTAG00000015085</td>\n",
       "      <td>other_paralog</td>\n",
       "      <td>Opisthokonta</td>\n",
       "    </tr>\n",
       "    <tr>\n",
       "      <th>10</th>\n",
       "      <td>ENSBTAG00000001753</td>\n",
       "      <td>ENSBTAG00000013533</td>\n",
       "      <td>other_paralog</td>\n",
       "      <td>Opisthokonta</td>\n",
       "    </tr>\n",
       "    <tr>\n",
       "      <th>11</th>\n",
       "      <td>ENSBTAG00000001753</td>\n",
       "      <td>ENSBTAG00000010244</td>\n",
       "      <td>other_paralog</td>\n",
       "      <td>Opisthokonta</td>\n",
       "    </tr>\n",
       "    <tr>\n",
       "      <th>12</th>\n",
       "      <td>ENSBTAG00000001753</td>\n",
       "      <td>ENSBTAG00000010948</td>\n",
       "      <td>other_paralog</td>\n",
       "      <td>Opisthokonta</td>\n",
       "    </tr>\n",
       "    <tr>\n",
       "      <th>13</th>\n",
       "      <td>ENSBTAG00000001753</td>\n",
       "      <td>ENSBTAG00000008587</td>\n",
       "      <td>other_paralog</td>\n",
       "      <td>Opisthokonta</td>\n",
       "    </tr>\n",
       "    <tr>\n",
       "      <th>14</th>\n",
       "      <td>ENSBTAG00000001753</td>\n",
       "      <td>ENSBTAG00000040298</td>\n",
       "      <td>other_paralog</td>\n",
       "      <td>Opisthokonta</td>\n",
       "    </tr>\n",
       "    <tr>\n",
       "      <th>15</th>\n",
       "      <td>ENSBTAG00000001753</td>\n",
       "      <td>ENSBTAG00000002706</td>\n",
       "      <td>other_paralog</td>\n",
       "      <td>Opisthokonta</td>\n",
       "    </tr>\n",
       "    <tr>\n",
       "      <th>16</th>\n",
       "      <td>ENSBTAG00000001753</td>\n",
       "      <td>ENSBTAG00000012608</td>\n",
       "      <td>other_paralog</td>\n",
       "      <td>Opisthokonta</td>\n",
       "    </tr>\n",
       "    <tr>\n",
       "      <th>17</th>\n",
       "      <td>ENSBTAG00000001753</td>\n",
       "      <td>ENSBTAG00000009470</td>\n",
       "      <td>other_paralog</td>\n",
       "      <td>Opisthokonta</td>\n",
       "    </tr>\n",
       "    <tr>\n",
       "      <th>18</th>\n",
       "      <td>ENSBTAG00000001753</td>\n",
       "      <td>ENSBTAG00000002593</td>\n",
       "      <td>other_paralog</td>\n",
       "      <td>Opisthokonta</td>\n",
       "    </tr>\n",
       "    <tr>\n",
       "      <th>19</th>\n",
       "      <td>ENSBTAG00000001753</td>\n",
       "      <td>ENSBTAG00000040290</td>\n",
       "      <td>other_paralog</td>\n",
       "      <td>Opisthokonta</td>\n",
       "    </tr>\n",
       "    <tr>\n",
       "      <th>20</th>\n",
       "      <td>ENSBTAG00000001753</td>\n",
       "      <td>ENSBTAG00000046447</td>\n",
       "      <td>within_species_paralog</td>\n",
       "      <td>Bovidae</td>\n",
       "    </tr>\n",
       "    <tr>\n",
       "      <th>21</th>\n",
       "      <td>ENSBTAG00000046015</td>\n",
       "      <td>ENSBTAG00000037665</td>\n",
       "      <td>other_paralog</td>\n",
       "      <td>Euteleostomi</td>\n",
       "    </tr>\n",
       "    <tr>\n",
       "      <th>22</th>\n",
       "      <td>ENSBTAG00000046015</td>\n",
       "      <td>ENSBTAG00000038759</td>\n",
       "      <td>other_paralog</td>\n",
       "      <td>Euteleostomi</td>\n",
       "    </tr>\n",
       "    <tr>\n",
       "      <th>23</th>\n",
       "      <td>ENSBTAG00000046015</td>\n",
       "      <td>ENSBTAG00000046075</td>\n",
       "      <td>other_paralog</td>\n",
       "      <td>Euteleostomi</td>\n",
       "    </tr>\n",
       "    <tr>\n",
       "      <th>24</th>\n",
       "      <td>ENSBTAG00000046015</td>\n",
       "      <td>ENSBTAG00000039644</td>\n",
       "      <td>other_paralog</td>\n",
       "      <td>Euteleostomi</td>\n",
       "    </tr>\n",
       "    <tr>\n",
       "      <th>25</th>\n",
       "      <td>ENSBTAG00000046015</td>\n",
       "      <td>ENSBTAG00000050687</td>\n",
       "      <td>other_paralog</td>\n",
       "      <td>Euteleostomi</td>\n",
       "    </tr>\n",
       "    <tr>\n",
       "      <th>26</th>\n",
       "      <td>ENSBTAG00000046015</td>\n",
       "      <td>ENSBTAG00000052676</td>\n",
       "      <td>other_paralog</td>\n",
       "      <td>Euteleostomi</td>\n",
       "    </tr>\n",
       "    <tr>\n",
       "      <th>27</th>\n",
       "      <td>ENSBTAG00000046015</td>\n",
       "      <td>ENSBTAG00000051280</td>\n",
       "      <td>other_paralog</td>\n",
       "      <td>Euteleostomi</td>\n",
       "    </tr>\n",
       "    <tr>\n",
       "      <th>28</th>\n",
       "      <td>ENSBTAG00000046015</td>\n",
       "      <td>ENSBTAG00000038386</td>\n",
       "      <td>other_paralog</td>\n",
       "      <td>Euteleostomi</td>\n",
       "    </tr>\n",
       "    <tr>\n",
       "      <th>29</th>\n",
       "      <td>ENSBTAG00000046015</td>\n",
       "      <td>ENSBTAG00000048472</td>\n",
       "      <td>other_paralog</td>\n",
       "      <td>Euteleostomi</td>\n",
       "    </tr>\n",
       "    <tr>\n",
       "      <th>...</th>\n",
       "      <td>...</td>\n",
       "      <td>...</td>\n",
       "      <td>...</td>\n",
       "      <td>...</td>\n",
       "    </tr>\n",
       "    <tr>\n",
       "      <th>568850</th>\n",
       "      <td>ENSBTAG00000021843</td>\n",
       "      <td>ENSBTAG00000000010</td>\n",
       "      <td>other_paralog</td>\n",
       "      <td>Opisthokonta</td>\n",
       "    </tr>\n",
       "    <tr>\n",
       "      <th>568851</th>\n",
       "      <td>ENSBTAG00000021843</td>\n",
       "      <td>ENSBTAG00000025266</td>\n",
       "      <td>other_paralog</td>\n",
       "      <td>Opisthokonta</td>\n",
       "    </tr>\n",
       "    <tr>\n",
       "      <th>568854</th>\n",
       "      <td>ENSBTAG00000053877</td>\n",
       "      <td>ENSBTAG00000013260</td>\n",
       "      <td>within_species_paralog</td>\n",
       "      <td>Eutheria</td>\n",
       "    </tr>\n",
       "    <tr>\n",
       "      <th>568855</th>\n",
       "      <td>ENSBTAG00000053877</td>\n",
       "      <td>ENSBTAG00000038387</td>\n",
       "      <td>within_species_paralog</td>\n",
       "      <td>Eutheria</td>\n",
       "    </tr>\n",
       "    <tr>\n",
       "      <th>568856</th>\n",
       "      <td>ENSBTAG00000053877</td>\n",
       "      <td>ENSBTAG00000046769</td>\n",
       "      <td>within_species_paralog</td>\n",
       "      <td>Eutheria</td>\n",
       "    </tr>\n",
       "    <tr>\n",
       "      <th>568857</th>\n",
       "      <td>ENSBTAG00000053877</td>\n",
       "      <td>ENSBTAG00000017948</td>\n",
       "      <td>within_species_paralog</td>\n",
       "      <td>Eutheria</td>\n",
       "    </tr>\n",
       "    <tr>\n",
       "      <th>568858</th>\n",
       "      <td>ENSBTAG00000053877</td>\n",
       "      <td>ENSBTAG00000003044</td>\n",
       "      <td>within_species_paralog</td>\n",
       "      <td>Eutheria</td>\n",
       "    </tr>\n",
       "    <tr>\n",
       "      <th>568859</th>\n",
       "      <td>ENSBTAG00000013260</td>\n",
       "      <td>ENSBTAG00000038387</td>\n",
       "      <td>within_species_paralog</td>\n",
       "      <td>Eutheria</td>\n",
       "    </tr>\n",
       "    <tr>\n",
       "      <th>568860</th>\n",
       "      <td>ENSBTAG00000013260</td>\n",
       "      <td>ENSBTAG00000046769</td>\n",
       "      <td>within_species_paralog</td>\n",
       "      <td>Eutheria</td>\n",
       "    </tr>\n",
       "    <tr>\n",
       "      <th>568861</th>\n",
       "      <td>ENSBTAG00000013260</td>\n",
       "      <td>ENSBTAG00000053877</td>\n",
       "      <td>within_species_paralog</td>\n",
       "      <td>Eutheria</td>\n",
       "    </tr>\n",
       "    <tr>\n",
       "      <th>568862</th>\n",
       "      <td>ENSBTAG00000013260</td>\n",
       "      <td>ENSBTAG00000017948</td>\n",
       "      <td>within_species_paralog</td>\n",
       "      <td>Eutheria</td>\n",
       "    </tr>\n",
       "    <tr>\n",
       "      <th>568863</th>\n",
       "      <td>ENSBTAG00000013260</td>\n",
       "      <td>ENSBTAG00000003044</td>\n",
       "      <td>within_species_paralog</td>\n",
       "      <td>Eutheria</td>\n",
       "    </tr>\n",
       "    <tr>\n",
       "      <th>568864</th>\n",
       "      <td>ENSBTAG00000046769</td>\n",
       "      <td>ENSBTAG00000038387</td>\n",
       "      <td>within_species_paralog</td>\n",
       "      <td>Bos</td>\n",
       "    </tr>\n",
       "    <tr>\n",
       "      <th>568865</th>\n",
       "      <td>ENSBTAG00000046769</td>\n",
       "      <td>ENSBTAG00000013260</td>\n",
       "      <td>within_species_paralog</td>\n",
       "      <td>Eutheria</td>\n",
       "    </tr>\n",
       "    <tr>\n",
       "      <th>568866</th>\n",
       "      <td>ENSBTAG00000046769</td>\n",
       "      <td>ENSBTAG00000053877</td>\n",
       "      <td>within_species_paralog</td>\n",
       "      <td>Eutheria</td>\n",
       "    </tr>\n",
       "    <tr>\n",
       "      <th>568867</th>\n",
       "      <td>ENSBTAG00000046769</td>\n",
       "      <td>ENSBTAG00000017948</td>\n",
       "      <td>within_species_paralog</td>\n",
       "      <td>Eutheria</td>\n",
       "    </tr>\n",
       "    <tr>\n",
       "      <th>568868</th>\n",
       "      <td>ENSBTAG00000046769</td>\n",
       "      <td>ENSBTAG00000003044</td>\n",
       "      <td>within_species_paralog</td>\n",
       "      <td>Eutheria</td>\n",
       "    </tr>\n",
       "    <tr>\n",
       "      <th>568869</th>\n",
       "      <td>ENSBTAG00000038387</td>\n",
       "      <td>ENSBTAG00000046769</td>\n",
       "      <td>within_species_paralog</td>\n",
       "      <td>Bos</td>\n",
       "    </tr>\n",
       "    <tr>\n",
       "      <th>568870</th>\n",
       "      <td>ENSBTAG00000038387</td>\n",
       "      <td>ENSBTAG00000013260</td>\n",
       "      <td>within_species_paralog</td>\n",
       "      <td>Eutheria</td>\n",
       "    </tr>\n",
       "    <tr>\n",
       "      <th>568871</th>\n",
       "      <td>ENSBTAG00000038387</td>\n",
       "      <td>ENSBTAG00000053877</td>\n",
       "      <td>within_species_paralog</td>\n",
       "      <td>Eutheria</td>\n",
       "    </tr>\n",
       "    <tr>\n",
       "      <th>568872</th>\n",
       "      <td>ENSBTAG00000038387</td>\n",
       "      <td>ENSBTAG00000017948</td>\n",
       "      <td>within_species_paralog</td>\n",
       "      <td>Eutheria</td>\n",
       "    </tr>\n",
       "    <tr>\n",
       "      <th>568873</th>\n",
       "      <td>ENSBTAG00000038387</td>\n",
       "      <td>ENSBTAG00000003044</td>\n",
       "      <td>within_species_paralog</td>\n",
       "      <td>Eutheria</td>\n",
       "    </tr>\n",
       "    <tr>\n",
       "      <th>568874</th>\n",
       "      <td>ENSBTAG00000045616</td>\n",
       "      <td>ENSBTAG00000004151</td>\n",
       "      <td>within_species_paralog</td>\n",
       "      <td>Bos</td>\n",
       "    </tr>\n",
       "    <tr>\n",
       "      <th>568875</th>\n",
       "      <td>ENSBTAG00000045616</td>\n",
       "      <td>ENSBTAG00000009663</td>\n",
       "      <td>other_paralog</td>\n",
       "      <td>Bilateria</td>\n",
       "    </tr>\n",
       "    <tr>\n",
       "      <th>568876</th>\n",
       "      <td>ENSBTAG00000045616</td>\n",
       "      <td>ENSBTAG00000017368</td>\n",
       "      <td>other_paralog</td>\n",
       "      <td>Bilateria</td>\n",
       "    </tr>\n",
       "    <tr>\n",
       "      <th>568877</th>\n",
       "      <td>ENSBTAG00000045616</td>\n",
       "      <td>ENSBTAG00000009126</td>\n",
       "      <td>other_paralog</td>\n",
       "      <td>Bilateria</td>\n",
       "    </tr>\n",
       "    <tr>\n",
       "      <th>568878</th>\n",
       "      <td>ENSBTAG00000045616</td>\n",
       "      <td>ENSBTAG00000040497</td>\n",
       "      <td>other_paralog</td>\n",
       "      <td>Bilateria</td>\n",
       "    </tr>\n",
       "    <tr>\n",
       "      <th>568879</th>\n",
       "      <td>ENSBTAG00000045616</td>\n",
       "      <td>ENSBTAG00000048256</td>\n",
       "      <td>other_paralog</td>\n",
       "      <td>Bilateria</td>\n",
       "    </tr>\n",
       "    <tr>\n",
       "      <th>568880</th>\n",
       "      <td>ENSBTAG00000045616</td>\n",
       "      <td>ENSBTAG00000048376</td>\n",
       "      <td>other_paralog</td>\n",
       "      <td>Bilateria</td>\n",
       "    </tr>\n",
       "    <tr>\n",
       "      <th>568881</th>\n",
       "      <td>ENSBTAG00000045616</td>\n",
       "      <td>ENSBTAG00000043973</td>\n",
       "      <td>other_paralog</td>\n",
       "      <td>Bilateria</td>\n",
       "    </tr>\n",
       "  </tbody>\n",
       "</table>\n",
       "<p>564767 rows × 4 columns</p>\n",
       "</div>"
      ],
      "text/plain": [
       "            Gene stable ID Cow paralogue gene stable ID  \\\n",
       "0       ENSBTAG00000006648           ENSBTAG00000040490   \n",
       "1       ENSBTAG00000006648           ENSBTAG00000054829   \n",
       "2       ENSBTAG00000054829           ENSBTAG00000040490   \n",
       "3       ENSBTAG00000054829           ENSBTAG00000006648   \n",
       "4       ENSBTAG00000001753           ENSBTAG00000000170   \n",
       "5       ENSBTAG00000001753           ENSBTAG00000053662   \n",
       "6       ENSBTAG00000001753           ENSBTAG00000011843   \n",
       "7       ENSBTAG00000001753           ENSBTAG00000003989   \n",
       "8       ENSBTAG00000001753           ENSBTAG00000038540   \n",
       "9       ENSBTAG00000001753           ENSBTAG00000015085   \n",
       "10      ENSBTAG00000001753           ENSBTAG00000013533   \n",
       "11      ENSBTAG00000001753           ENSBTAG00000010244   \n",
       "12      ENSBTAG00000001753           ENSBTAG00000010948   \n",
       "13      ENSBTAG00000001753           ENSBTAG00000008587   \n",
       "14      ENSBTAG00000001753           ENSBTAG00000040298   \n",
       "15      ENSBTAG00000001753           ENSBTAG00000002706   \n",
       "16      ENSBTAG00000001753           ENSBTAG00000012608   \n",
       "17      ENSBTAG00000001753           ENSBTAG00000009470   \n",
       "18      ENSBTAG00000001753           ENSBTAG00000002593   \n",
       "19      ENSBTAG00000001753           ENSBTAG00000040290   \n",
       "20      ENSBTAG00000001753           ENSBTAG00000046447   \n",
       "21      ENSBTAG00000046015           ENSBTAG00000037665   \n",
       "22      ENSBTAG00000046015           ENSBTAG00000038759   \n",
       "23      ENSBTAG00000046015           ENSBTAG00000046075   \n",
       "24      ENSBTAG00000046015           ENSBTAG00000039644   \n",
       "25      ENSBTAG00000046015           ENSBTAG00000050687   \n",
       "26      ENSBTAG00000046015           ENSBTAG00000052676   \n",
       "27      ENSBTAG00000046015           ENSBTAG00000051280   \n",
       "28      ENSBTAG00000046015           ENSBTAG00000038386   \n",
       "29      ENSBTAG00000046015           ENSBTAG00000048472   \n",
       "...                    ...                          ...   \n",
       "568850  ENSBTAG00000021843           ENSBTAG00000000010   \n",
       "568851  ENSBTAG00000021843           ENSBTAG00000025266   \n",
       "568854  ENSBTAG00000053877           ENSBTAG00000013260   \n",
       "568855  ENSBTAG00000053877           ENSBTAG00000038387   \n",
       "568856  ENSBTAG00000053877           ENSBTAG00000046769   \n",
       "568857  ENSBTAG00000053877           ENSBTAG00000017948   \n",
       "568858  ENSBTAG00000053877           ENSBTAG00000003044   \n",
       "568859  ENSBTAG00000013260           ENSBTAG00000038387   \n",
       "568860  ENSBTAG00000013260           ENSBTAG00000046769   \n",
       "568861  ENSBTAG00000013260           ENSBTAG00000053877   \n",
       "568862  ENSBTAG00000013260           ENSBTAG00000017948   \n",
       "568863  ENSBTAG00000013260           ENSBTAG00000003044   \n",
       "568864  ENSBTAG00000046769           ENSBTAG00000038387   \n",
       "568865  ENSBTAG00000046769           ENSBTAG00000013260   \n",
       "568866  ENSBTAG00000046769           ENSBTAG00000053877   \n",
       "568867  ENSBTAG00000046769           ENSBTAG00000017948   \n",
       "568868  ENSBTAG00000046769           ENSBTAG00000003044   \n",
       "568869  ENSBTAG00000038387           ENSBTAG00000046769   \n",
       "568870  ENSBTAG00000038387           ENSBTAG00000013260   \n",
       "568871  ENSBTAG00000038387           ENSBTAG00000053877   \n",
       "568872  ENSBTAG00000038387           ENSBTAG00000017948   \n",
       "568873  ENSBTAG00000038387           ENSBTAG00000003044   \n",
       "568874  ENSBTAG00000045616           ENSBTAG00000004151   \n",
       "568875  ENSBTAG00000045616           ENSBTAG00000009663   \n",
       "568876  ENSBTAG00000045616           ENSBTAG00000017368   \n",
       "568877  ENSBTAG00000045616           ENSBTAG00000009126   \n",
       "568878  ENSBTAG00000045616           ENSBTAG00000040497   \n",
       "568879  ENSBTAG00000045616           ENSBTAG00000048256   \n",
       "568880  ENSBTAG00000045616           ENSBTAG00000048376   \n",
       "568881  ENSBTAG00000045616           ENSBTAG00000043973   \n",
       "\n",
       "       Cow paralogue homology type Paralogue last common ancestor with Cow  \n",
       "0           within_species_paralog                                Eutheria  \n",
       "1           within_species_paralog                                Eutheria  \n",
       "2           within_species_paralog                                Eutheria  \n",
       "3           within_species_paralog                                Eutheria  \n",
       "4                    other_paralog                            Opisthokonta  \n",
       "5                    other_paralog                            Opisthokonta  \n",
       "6                    other_paralog                            Opisthokonta  \n",
       "7                    other_paralog                            Opisthokonta  \n",
       "8                    other_paralog                            Opisthokonta  \n",
       "9                    other_paralog                            Opisthokonta  \n",
       "10                   other_paralog                            Opisthokonta  \n",
       "11                   other_paralog                            Opisthokonta  \n",
       "12                   other_paralog                            Opisthokonta  \n",
       "13                   other_paralog                            Opisthokonta  \n",
       "14                   other_paralog                            Opisthokonta  \n",
       "15                   other_paralog                            Opisthokonta  \n",
       "16                   other_paralog                            Opisthokonta  \n",
       "17                   other_paralog                            Opisthokonta  \n",
       "18                   other_paralog                            Opisthokonta  \n",
       "19                   other_paralog                            Opisthokonta  \n",
       "20          within_species_paralog                                 Bovidae  \n",
       "21                   other_paralog                            Euteleostomi  \n",
       "22                   other_paralog                            Euteleostomi  \n",
       "23                   other_paralog                            Euteleostomi  \n",
       "24                   other_paralog                            Euteleostomi  \n",
       "25                   other_paralog                            Euteleostomi  \n",
       "26                   other_paralog                            Euteleostomi  \n",
       "27                   other_paralog                            Euteleostomi  \n",
       "28                   other_paralog                            Euteleostomi  \n",
       "29                   other_paralog                            Euteleostomi  \n",
       "...                            ...                                     ...  \n",
       "568850               other_paralog                            Opisthokonta  \n",
       "568851               other_paralog                            Opisthokonta  \n",
       "568854      within_species_paralog                                Eutheria  \n",
       "568855      within_species_paralog                                Eutheria  \n",
       "568856      within_species_paralog                                Eutheria  \n",
       "568857      within_species_paralog                                Eutheria  \n",
       "568858      within_species_paralog                                Eutheria  \n",
       "568859      within_species_paralog                                Eutheria  \n",
       "568860      within_species_paralog                                Eutheria  \n",
       "568861      within_species_paralog                                Eutheria  \n",
       "568862      within_species_paralog                                Eutheria  \n",
       "568863      within_species_paralog                                Eutheria  \n",
       "568864      within_species_paralog                                     Bos  \n",
       "568865      within_species_paralog                                Eutheria  \n",
       "568866      within_species_paralog                                Eutheria  \n",
       "568867      within_species_paralog                                Eutheria  \n",
       "568868      within_species_paralog                                Eutheria  \n",
       "568869      within_species_paralog                                     Bos  \n",
       "568870      within_species_paralog                                Eutheria  \n",
       "568871      within_species_paralog                                Eutheria  \n",
       "568872      within_species_paralog                                Eutheria  \n",
       "568873      within_species_paralog                                Eutheria  \n",
       "568874      within_species_paralog                                     Bos  \n",
       "568875               other_paralog                               Bilateria  \n",
       "568876               other_paralog                               Bilateria  \n",
       "568877               other_paralog                               Bilateria  \n",
       "568878               other_paralog                               Bilateria  \n",
       "568879               other_paralog                               Bilateria  \n",
       "568880               other_paralog                               Bilateria  \n",
       "568881               other_paralog                               Bilateria  \n",
       "\n",
       "[564767 rows x 4 columns]"
      ]
     },
     "execution_count": 13,
     "metadata": {},
     "output_type": "execute_result"
    }
   ],
   "source": [
    "cowParalogs"
   ]
  },
  {
   "cell_type": "markdown",
   "metadata": {},
   "source": [
    "Concatenate column 1 and 2 and unique to get a list of human paralogs"
   ]
  },
  {
   "cell_type": "code",
   "execution_count": 14,
   "metadata": {},
   "outputs": [
    {
     "data": {
      "text/html": [
       "<div>\n",
       "<style scoped>\n",
       "    .dataframe tbody tr th:only-of-type {\n",
       "        vertical-align: middle;\n",
       "    }\n",
       "\n",
       "    .dataframe tbody tr th {\n",
       "        vertical-align: top;\n",
       "    }\n",
       "\n",
       "    .dataframe thead th {\n",
       "        text-align: right;\n",
       "    }\n",
       "</style>\n",
       "<table border=\"1\" class=\"dataframe\">\n",
       "  <thead>\n",
       "    <tr style=\"text-align: right;\">\n",
       "      <th></th>\n",
       "      <th>Ensembl Gene ID</th>\n",
       "    </tr>\n",
       "  </thead>\n",
       "  <tbody>\n",
       "    <tr>\n",
       "      <th>0</th>\n",
       "      <td>ENSBTAG00000006648</td>\n",
       "    </tr>\n",
       "    <tr>\n",
       "      <th>1</th>\n",
       "      <td>ENSBTAG00000054829</td>\n",
       "    </tr>\n",
       "    <tr>\n",
       "      <th>2</th>\n",
       "      <td>ENSBTAG00000001753</td>\n",
       "    </tr>\n",
       "    <tr>\n",
       "      <th>3</th>\n",
       "      <td>ENSBTAG00000046015</td>\n",
       "    </tr>\n",
       "    <tr>\n",
       "      <th>4</th>\n",
       "      <td>ENSBTAG00000020035</td>\n",
       "    </tr>\n",
       "  </tbody>\n",
       "</table>\n",
       "</div>"
      ],
      "text/plain": [
       "      Ensembl Gene ID\n",
       "0  ENSBTAG00000006648\n",
       "1  ENSBTAG00000054829\n",
       "2  ENSBTAG00000001753\n",
       "3  ENSBTAG00000046015\n",
       "4  ENSBTAG00000020035"
      ]
     },
     "execution_count": 14,
     "metadata": {},
     "output_type": "execute_result"
    }
   ],
   "source": [
    "duplicates = pd.DataFrame(pd.concat([cowParalogs[['Gene stable ID']],\n",
    "               cowParalogs[['Cow paralogue gene stable ID']].rename(columns={'Cow paralogue gene stable ID': 'Gene stable ID'})]).reset_index()['Gene stable ID'].unique())\n",
    "duplicates.rename(columns={0: 'Ensembl Gene ID'}, inplace=True)\n",
    "duplicates = pd.merge(duplicates, EnsV96CowProteinCodingGenes1X, how='inner')\n",
    "duplicates.head()"
   ]
  },
  {
   "cell_type": "code",
   "execution_count": 15,
   "metadata": {},
   "outputs": [
    {
     "data": {
      "text/plain": [
       "17515"
      ]
     },
     "execution_count": 15,
     "metadata": {},
     "output_type": "execute_result"
    }
   ],
   "source": [
    "len(duplicates)"
   ]
  },
  {
   "cell_type": "markdown",
   "metadata": {},
   "source": [
    "### Ohnolog lists from Singh and Isambert (2019)\n",
    "\n",
    "Three lists available:\n",
    "* Strict:             q-score(outgroup) < 0.001 AND q-score(self) < 0.001\n",
    "* Intermediate: q-score(outgroup) < 0.01 AND q-score(self) < 0.01\n",
    "* Relaxed:         q-score(outgroup) < 0.05 AND q-score(self) < 0.3"
   ]
  },
  {
   "cell_type": "code",
   "execution_count": 16,
   "metadata": {},
   "outputs": [
    {
     "data": {
      "text/html": [
       "<div>\n",
       "<style scoped>\n",
       "    .dataframe tbody tr th:only-of-type {\n",
       "        vertical-align: middle;\n",
       "    }\n",
       "\n",
       "    .dataframe tbody tr th {\n",
       "        vertical-align: top;\n",
       "    }\n",
       "\n",
       "    .dataframe thead th {\n",
       "        text-align: right;\n",
       "    }\n",
       "</style>\n",
       "<table border=\"1\" class=\"dataframe\">\n",
       "  <thead>\n",
       "    <tr style=\"text-align: right;\">\n",
       "      <th></th>\n",
       "      <th>Ensembl Gene ID</th>\n",
       "    </tr>\n",
       "  </thead>\n",
       "  <tbody>\n",
       "    <tr>\n",
       "      <th>0</th>\n",
       "      <td>ENSBTAG00000021457</td>\n",
       "    </tr>\n",
       "    <tr>\n",
       "      <th>1</th>\n",
       "      <td>ENSBTAG00000003097</td>\n",
       "    </tr>\n",
       "    <tr>\n",
       "      <th>2</th>\n",
       "      <td>ENSBTAG00000016838</td>\n",
       "    </tr>\n",
       "    <tr>\n",
       "      <th>3</th>\n",
       "      <td>ENSBTAG00000014526</td>\n",
       "    </tr>\n",
       "    <tr>\n",
       "      <th>4</th>\n",
       "      <td>ENSBTAG00000005810</td>\n",
       "    </tr>\n",
       "  </tbody>\n",
       "</table>\n",
       "</div>"
      ],
      "text/plain": [
       "      Ensembl Gene ID\n",
       "0  ENSBTAG00000021457\n",
       "1  ENSBTAG00000003097\n",
       "2  ENSBTAG00000016838\n",
       "3  ENSBTAG00000014526\n",
       "4  ENSBTAG00000005810"
      ]
     },
     "execution_count": 16,
     "metadata": {},
     "output_type": "execute_result"
    }
   ],
   "source": [
    "strict = pd.read_csv('../../datasets/geneLists/Singh and Isambert/btaurus.Pairs.Strict.2R.txt', sep=\"\\t\")\n",
    "strict = pd.DataFrame(pd.concat([strict[['Ohno1']],\n",
    "           strict[['Ohno2']].rename(columns={'Ohno2': 'Ohno1'})]).reset_index()['Ohno1'].unique())\n",
    "strict.rename(columns={0: 'Ensembl Gene ID'}, inplace=True)\n",
    "strict.head()"
   ]
  },
  {
   "cell_type": "code",
   "execution_count": 17,
   "metadata": {},
   "outputs": [
    {
     "data": {
      "text/plain": [
       "4854"
      ]
     },
     "execution_count": 17,
     "metadata": {},
     "output_type": "execute_result"
    }
   ],
   "source": [
    "len(strict)"
   ]
  },
  {
   "cell_type": "code",
   "execution_count": 18,
   "metadata": {},
   "outputs": [
    {
     "data": {
      "text/html": [
       "<div>\n",
       "<style scoped>\n",
       "    .dataframe tbody tr th:only-of-type {\n",
       "        vertical-align: middle;\n",
       "    }\n",
       "\n",
       "    .dataframe tbody tr th {\n",
       "        vertical-align: top;\n",
       "    }\n",
       "\n",
       "    .dataframe thead th {\n",
       "        text-align: right;\n",
       "    }\n",
       "</style>\n",
       "<table border=\"1\" class=\"dataframe\">\n",
       "  <thead>\n",
       "    <tr style=\"text-align: right;\">\n",
       "      <th></th>\n",
       "      <th>Ensembl Gene ID</th>\n",
       "    </tr>\n",
       "  </thead>\n",
       "  <tbody>\n",
       "    <tr>\n",
       "      <th>0</th>\n",
       "      <td>ENSBTAG00000021457</td>\n",
       "    </tr>\n",
       "    <tr>\n",
       "      <th>1</th>\n",
       "      <td>ENSBTAG00000003097</td>\n",
       "    </tr>\n",
       "    <tr>\n",
       "      <th>2</th>\n",
       "      <td>ENSBTAG00000016838</td>\n",
       "    </tr>\n",
       "    <tr>\n",
       "      <th>3</th>\n",
       "      <td>ENSBTAG00000014526</td>\n",
       "    </tr>\n",
       "    <tr>\n",
       "      <th>4</th>\n",
       "      <td>ENSBTAG00000003727</td>\n",
       "    </tr>\n",
       "  </tbody>\n",
       "</table>\n",
       "</div>"
      ],
      "text/plain": [
       "      Ensembl Gene ID\n",
       "0  ENSBTAG00000021457\n",
       "1  ENSBTAG00000003097\n",
       "2  ENSBTAG00000016838\n",
       "3  ENSBTAG00000014526\n",
       "4  ENSBTAG00000003727"
      ]
     },
     "execution_count": 18,
     "metadata": {},
     "output_type": "execute_result"
    }
   ],
   "source": [
    "intermediate = pd.read_csv('../../datasets/geneLists/Singh and Isambert/btaurus.Pairs.Intermediate.2R.txt', sep=\"\\t\")\n",
    "intermediate = pd.DataFrame(pd.concat([intermediate[['Ohno1']],\n",
    "           intermediate[['Ohno2']].rename(columns={'Ohno2': 'Ohno1'})]).reset_index()['Ohno1'].unique())\n",
    "intermediate.rename(columns={0: 'Ensembl Gene ID'}, inplace=True)\n",
    "intermediate.head()"
   ]
  },
  {
   "cell_type": "code",
   "execution_count": 19,
   "metadata": {},
   "outputs": [
    {
     "data": {
      "text/plain": [
       "5860"
      ]
     },
     "execution_count": 19,
     "metadata": {},
     "output_type": "execute_result"
    }
   ],
   "source": [
    "len(intermediate)"
   ]
  },
  {
   "cell_type": "code",
   "execution_count": 20,
   "metadata": {},
   "outputs": [
    {
     "data": {
      "text/html": [
       "<div>\n",
       "<style scoped>\n",
       "    .dataframe tbody tr th:only-of-type {\n",
       "        vertical-align: middle;\n",
       "    }\n",
       "\n",
       "    .dataframe tbody tr th {\n",
       "        vertical-align: top;\n",
       "    }\n",
       "\n",
       "    .dataframe thead th {\n",
       "        text-align: right;\n",
       "    }\n",
       "</style>\n",
       "<table border=\"1\" class=\"dataframe\">\n",
       "  <thead>\n",
       "    <tr style=\"text-align: right;\">\n",
       "      <th></th>\n",
       "      <th>Ensembl Gene ID</th>\n",
       "    </tr>\n",
       "  </thead>\n",
       "  <tbody>\n",
       "    <tr>\n",
       "      <th>0</th>\n",
       "      <td>ENSBTAG00000032079</td>\n",
       "    </tr>\n",
       "    <tr>\n",
       "      <th>1</th>\n",
       "      <td>ENSBTAG00000021457</td>\n",
       "    </tr>\n",
       "    <tr>\n",
       "      <th>2</th>\n",
       "      <td>ENSBTAG00000003097</td>\n",
       "    </tr>\n",
       "    <tr>\n",
       "      <th>3</th>\n",
       "      <td>ENSBTAG00000016838</td>\n",
       "    </tr>\n",
       "    <tr>\n",
       "      <th>4</th>\n",
       "      <td>ENSBTAG00000016794</td>\n",
       "    </tr>\n",
       "  </tbody>\n",
       "</table>\n",
       "</div>"
      ],
      "text/plain": [
       "      Ensembl Gene ID\n",
       "0  ENSBTAG00000032079\n",
       "1  ENSBTAG00000021457\n",
       "2  ENSBTAG00000003097\n",
       "3  ENSBTAG00000016838\n",
       "4  ENSBTAG00000016794"
      ]
     },
     "execution_count": 20,
     "metadata": {},
     "output_type": "execute_result"
    }
   ],
   "source": [
    "relaxed = pd.read_csv('../../datasets/geneLists/Singh and Isambert/btaurus.Pairs.Relaxed.2R.txt', sep=\"\\t\")\n",
    "relaxed = pd.DataFrame(pd.concat([relaxed[['Ohno1']],\n",
    "           relaxed[['Ohno2']].rename(columns={'Ohno2': 'Ohno1'})]).reset_index()['Ohno1'].unique())\n",
    "relaxed.rename(columns={0: 'Ensembl Gene ID'}, inplace=True)\n",
    "relaxed.head()"
   ]
  },
  {
   "cell_type": "code",
   "execution_count": 21,
   "metadata": {},
   "outputs": [
    {
     "data": {
      "text/plain": [
       "6774"
      ]
     },
     "execution_count": 21,
     "metadata": {},
     "output_type": "execute_result"
    }
   ],
   "source": [
    "len(relaxed)"
   ]
  },
  {
   "cell_type": "markdown",
   "metadata": {},
   "source": [
    "### Make list of ohnologs, SSDs and singletons"
   ]
  },
  {
   "cell_type": "markdown",
   "metadata": {},
   "source": [
    "#### Ensure Singh ohnologs are on Ensembl V75 gene list and listed as a paralog"
   ]
  },
  {
   "cell_type": "code",
   "execution_count": 22,
   "metadata": {},
   "outputs": [
    {
     "data": {
      "text/plain": [
       "4561"
      ]
     },
     "execution_count": 22,
     "metadata": {},
     "output_type": "execute_result"
    }
   ],
   "source": [
    "strictEns = pd.merge(strict, EnsV96CowProteinCodingGenes1X, how='inner')\n",
    "strictEns = pd.merge(strictEns, duplicates, how='inner')\n",
    "strictEns.to_csv('../../datasets/geneLists/Singh and Isambert/btaurus.Pairs.Strict.2R.Ens96.1-X.txt', sep='\\t', index=False)\n",
    "len(strictEns)"
   ]
  },
  {
   "cell_type": "code",
   "execution_count": 23,
   "metadata": {},
   "outputs": [
    {
     "data": {
      "text/plain": [
       "5465"
      ]
     },
     "execution_count": 23,
     "metadata": {},
     "output_type": "execute_result"
    }
   ],
   "source": [
    "intermediateEns = pd.merge(intermediate, EnsV96CowProteinCodingGenes1X, how='inner')\n",
    "intermediateEns = pd.merge(intermediateEns, duplicates, how='inner')\n",
    "intermediateEns.to_csv('../../datasets/geneLists/Singh and Isambert/btaurus.Pairs.Intermediate.2R.Ens96.1-X.txt', sep='\\t', index=False)\n",
    "len(intermediateEns)"
   ]
  },
  {
   "cell_type": "code",
   "execution_count": 24,
   "metadata": {},
   "outputs": [
    {
     "data": {
      "text/plain": [
       "6272"
      ]
     },
     "execution_count": 24,
     "metadata": {},
     "output_type": "execute_result"
    }
   ],
   "source": [
    "relaxedEns = pd.merge(relaxed, EnsV96CowProteinCodingGenes1X, how='inner')\n",
    "relaxedEns = pd.merge(relaxedEns, duplicates, how='inner')\n",
    "relaxedEns.to_csv('../../datasets/geneLists/Singh and Isambert/btaurus.Pairs.Relaxed.2R.Ens96.1-X.txt', sep='\\t', index=False)\n",
    "len(relaxedEns)"
   ]
  },
  {
   "cell_type": "markdown",
   "metadata": {},
   "source": [
    "#### Get list of SSDs at different stringency levels"
   ]
  },
  {
   "cell_type": "code",
   "execution_count": 25,
   "metadata": {},
   "outputs": [
    {
     "data": {
      "text/plain": [
       "12954"
      ]
     },
     "execution_count": 25,
     "metadata": {},
     "output_type": "execute_result"
    }
   ],
   "source": [
    "SSDsStrictOhnos = duplicates.loc[~duplicates['Ensembl Gene ID'].isin(strictEns['Ensembl Gene ID'])]\n",
    "SSDsStrictOhnos.to_csv('../../datasets/geneLists/SSDsStrictOhnos.cow.txt', sep='\\t', index=False)\n",
    "len(SSDsStrictOhnos)"
   ]
  },
  {
   "cell_type": "code",
   "execution_count": 26,
   "metadata": {},
   "outputs": [
    {
     "data": {
      "text/plain": [
       "12050"
      ]
     },
     "execution_count": 26,
     "metadata": {},
     "output_type": "execute_result"
    }
   ],
   "source": [
    "SSDsIntermediateOhnos = duplicates.loc[~duplicates['Ensembl Gene ID'].isin(intermediateEns['Ensembl Gene ID'])]\n",
    "SSDsIntermediateOhnos.to_csv('../../datasets/geneLists/SSDsIntermediateOhnos.cow.txt', sep='\\t', index=False)\n",
    "len(SSDsIntermediateOhnos)"
   ]
  },
  {
   "cell_type": "code",
   "execution_count": 27,
   "metadata": {},
   "outputs": [
    {
     "data": {
      "text/plain": [
       "11243"
      ]
     },
     "execution_count": 27,
     "metadata": {},
     "output_type": "execute_result"
    }
   ],
   "source": [
    "SSDsRelaxedOhnos = duplicates.loc[~duplicates['Ensembl Gene ID'].isin(relaxedEns['Ensembl Gene ID'])]\n",
    "SSDsRelaxedOhnos.to_csv('../../datasets/geneLists/SSDsRelaxedOhnos.cow.txt', sep='\\t', index=False)\n",
    "len(SSDsRelaxedOhnos)"
   ]
  },
  {
   "cell_type": "markdown",
   "metadata": {},
   "source": [
    "#### Get list of singletons"
   ]
  },
  {
   "cell_type": "code",
   "execution_count": 28,
   "metadata": {},
   "outputs": [
    {
     "data": {
      "text/plain": [
       "4115"
      ]
     },
     "execution_count": 28,
     "metadata": {},
     "output_type": "execute_result"
    }
   ],
   "source": [
    "singletons = EnsV96CowProteinCodingGenes1X.loc[~EnsV96CowProteinCodingGenes1X['Ensembl Gene ID'].isin(duplicates['Ensembl Gene ID'])]\n",
    "singletons.to_csv('../../datasets/geneLists/singletons.cow.txt', sep='\\t', index=False)\n",
    "len(singletons)"
   ]
  },
  {
   "cell_type": "code",
   "execution_count": null,
   "metadata": {},
   "outputs": [],
   "source": []
  }
 ],
 "metadata": {
  "kernelspec": {
   "display_name": "Python [conda env:paper-eqtls]",
   "language": "python",
   "name": "conda-env-paper-eqtls-py"
  },
  "language_info": {
   "codemirror_mode": {
    "name": "ipython",
    "version": 3
   },
   "file_extension": ".py",
   "mimetype": "text/x-python",
   "name": "python",
   "nbconvert_exporter": "python",
   "pygments_lexer": "ipython3",
   "version": "3.6.6"
  }
 },
 "nbformat": 4,
 "nbformat_minor": 4
}
