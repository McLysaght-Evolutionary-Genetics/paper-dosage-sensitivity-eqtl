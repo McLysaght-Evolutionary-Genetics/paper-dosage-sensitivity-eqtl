{
 "cells": [
  {
   "cell_type": "markdown",
   "metadata": {},
   "source": [
    "# Create lists of human genes within Copy Number Variable Regions (CNVR) from Zarrei et al. CNVR map"
   ]
  },
  {
   "cell_type": "markdown",
   "metadata": {},
   "source": [
    "## Analysis"
   ]
  },
  {
   "cell_type": "code",
   "execution_count": 1,
   "metadata": {},
   "outputs": [],
   "source": [
    "import pandas as pd"
   ]
  },
  {
   "cell_type": "markdown",
   "metadata": {},
   "source": [
    "### Prepare CNV data"
   ]
  },
  {
   "cell_type": "markdown",
   "metadata": {},
   "source": [
    "##### Extract the columns from CNV map that contain chromosome, start and end to make BED files"
   ]
  },
  {
   "cell_type": "code",
   "execution_count": 1,
   "metadata": {},
   "outputs": [],
   "source": [
    "%%bash\n",
    "tail -n+2 ../../datasets/ZarreiEtAlCNVRMap/Inclusive.Gain.hg19.2015-02-03.txt | cut -f 1,2,3 > ../../datasets/ZarreiEtAlCNVRMap/inclusiveGainRegions.bed\n",
    "tail -n+2 ../../datasets/ZarreiEtAlCNVRMap/Inclusive.Loss.hg19.2015-02-03.txt | cut -f 1,2,3 > ../../datasets/ZarreiEtAlCNVRMap/inclusiveLossRegions.bed\n",
    "tail -n+2 ../../datasets/ZarreiEtAlCNVRMap/Inclusive.Gain+Loss.hg19.2015-02-03.txt | cut -f 1,2,3 > ../../datasets/ZarreiEtAlCNVRMap/inclusiveRegions.bed\n",
    "tail -n+2 ../../datasets/ZarreiEtAlCNVRMap/Stringent.Gain.hg19.2015-02-03.txt | cut -f 1,2,3 > ../../datasets/ZarreiEtAlCNVRMap/stringentGainRegions.bed\n",
    "tail -n+2 ../../datasets/ZarreiEtAlCNVRMap/Stringent.Loss.hg19.2015-02-03.txt | cut -f 1,2,3 > ../../datasets/ZarreiEtAlCNVRMap/stringentLossRegions.bed\n",
    "tail -n+2 ../../datasets/ZarreiEtAlCNVRMap/Stringent.Gain+Loss.hg19.2015-02-03.txt | cut -f 1,2,3 > ../../datasets/ZarreiEtAlCNVRMap/stringentRegions.bed"
   ]
  },
  {
   "cell_type": "markdown",
   "metadata": {},
   "source": [
    "##### Number of regions for each type"
   ]
  },
  {
   "cell_type": "code",
   "execution_count": 2,
   "metadata": {},
   "outputs": [
    {
     "name": "stdout",
     "output_type": "stream",
     "text": [
      "    3132 ../../datasets/ZarreiEtAlCNVRMap/inclusiveGainRegions.bed\n",
      "   23438 ../../datasets/ZarreiEtAlCNVRMap/inclusiveLossRegions.bed\n",
      "   24032 ../../datasets/ZarreiEtAlCNVRMap/inclusiveRegions.bed\n",
      "    1169 ../../datasets/ZarreiEtAlCNVRMap/stringentGainRegions.bed\n",
      "   11530 ../../datasets/ZarreiEtAlCNVRMap/stringentLossRegions.bed\n",
      "   11732 ../../datasets/ZarreiEtAlCNVRMap/stringentRegions.bed\n"
     ]
    }
   ],
   "source": [
    "%%bash\n",
    "wc -l ../../datasets/ZarreiEtAlCNVRMap/inclusiveGainRegions.bed\n",
    "wc -l ../../datasets/ZarreiEtAlCNVRMap/inclusiveLossRegions.bed\n",
    "wc -l ../../datasets/ZarreiEtAlCNVRMap/inclusiveRegions.bed\n",
    "wc -l ../../datasets/ZarreiEtAlCNVRMap/stringentGainRegions.bed\n",
    "wc -l ../../datasets/ZarreiEtAlCNVRMap/stringentLossRegions.bed\n",
    "wc -l ../../datasets/ZarreiEtAlCNVRMap/stringentRegions.bed"
   ]
  },
  {
   "cell_type": "markdown",
   "metadata": {},
   "source": [
    "##### Create protein-coding gene lists for CNV regions"
   ]
  },
  {
   "cell_type": "code",
   "execution_count": 7,
   "metadata": {},
   "outputs": [],
   "source": [
    "%%bash\n",
    "tail -n+2 ../../datasets/geneLists/Ensembl/EnsV75ProteinCodingGenes1-Y.txt | awk '{print \"chr\" $2 \"\\t\" $3 \"\\t\" $4 \"\\t\" $1}' > ../../datasets/geneLists/Ensembl/EnsV75ProteinCodingGenes1-Y.bed"
   ]
  },
  {
   "cell_type": "code",
   "execution_count": 9,
   "metadata": {},
   "outputs": [],
   "source": [
    "%%bash\n",
    "bedtools intersect -a ../../datasets/geneLists/Ensembl/EnsV75ProteinCodingGenes1-Y.bed -b ../../datasets/ZarreiEtAlCNVRMap/inclusiveGainRegions.bed -u |\\\n",
    "cut -f 4 > ../../datasets/geneLists/ZarreiEtAlCNVRMap/inclusiveGainRegionsChr1-YGenes.txt\n",
    "bedtools intersect -a ../../datasets/geneLists/Ensembl/EnsV75ProteinCodingGenes1-Y.bed -b ../../datasets/ZarreiEtAlCNVRMap/inclusiveLossRegions.bed -u |\\\n",
    "cut -f 4 > ../../datasets/geneLists/ZarreiEtAlCNVRMap/inclusiveLossRegionsChr1-YGenes.txt\n",
    "bedtools intersect -a ../../datasets/geneLists/Ensembl/EnsV75ProteinCodingGenes1-Y.bed -b ../../datasets/ZarreiEtAlCNVRMap/inclusiveRegions.bed -u |\\\n",
    "cut -f 4 > ../../datasets/geneLists/ZarreiEtAlCNVRMap/inclusiveRegionsChr1-YGenes.txt\n",
    "bedtools intersect -a ../../datasets/geneLists/Ensembl/EnsV75ProteinCodingGenes1-Y.bed -b ../../datasets/ZarreiEtAlCNVRMap/stringentGainRegions.bed -u |\\\n",
    "cut -f 4 > ../../datasets/geneLists/ZarreiEtAlCNVRMap/stringentGainRegionsChr1-YGenes.txt\n",
    "bedtools intersect -a ../../datasets/geneLists/Ensembl/EnsV75ProteinCodingGenes1-Y.bed -b ../../datasets/ZarreiEtAlCNVRMap/stringentLossRegions.bed -u |\\\n",
    "cut -f 4 > ../../datasets/geneLists/ZarreiEtAlCNVRMap/stringentLossRegionsChr1-YGenes.txt\n",
    "bedtools intersect -a ../../datasets/geneLists/Ensembl/EnsV75ProteinCodingGenes1-Y.bed -b ../../datasets/ZarreiEtAlCNVRMap/stringentRegions.bed -u |\\\n",
    "cut -f 4 > ../../datasets/geneLists/ZarreiEtAlCNVRMap/stringentRegionsChr1-YGenes.txt"
   ]
  },
  {
   "cell_type": "code",
   "execution_count": 10,
   "metadata": {},
   "outputs": [
    {
     "name": "stdout",
     "output_type": "stream",
     "text": [
      "    2216 ../../datasets/geneLists/ZarreiEtAlCNVRMap/inclusiveGainRegionsChr1-YGenes.txt\n",
      "    6884 ../../datasets/geneLists/ZarreiEtAlCNVRMap/inclusiveLossRegionsChr1-YGenes.txt\n",
      "    7604 ../../datasets/geneLists/ZarreiEtAlCNVRMap/inclusiveRegionsChr1-YGenes.txt\n",
      "    1042 ../../datasets/geneLists/ZarreiEtAlCNVRMap/stringentGainRegionsChr1-YGenes.txt\n",
      "    3909 ../../datasets/geneLists/ZarreiEtAlCNVRMap/stringentLossRegionsChr1-YGenes.txt\n",
      "    4295 ../../datasets/geneLists/ZarreiEtAlCNVRMap/stringentRegionsChr1-YGenes.txt\n"
     ]
    }
   ],
   "source": [
    "%%bash\n",
    "wc -l ../../datasets/geneLists/ZarreiEtAlCNVRMap/inclusiveGainRegionsChr1-YGenes.txt\n",
    "wc -l ../../datasets/geneLists/ZarreiEtAlCNVRMap/inclusiveLossRegionsChr1-YGenes.txt\n",
    "wc -l ../../datasets/geneLists/ZarreiEtAlCNVRMap/inclusiveRegionsChr1-YGenes.txt\n",
    "wc -l ../../datasets/geneLists/ZarreiEtAlCNVRMap/stringentGainRegionsChr1-YGenes.txt\n",
    "wc -l ../../datasets/geneLists/ZarreiEtAlCNVRMap/stringentLossRegionsChr1-YGenes.txt\n",
    "wc -l ../../datasets/geneLists/ZarreiEtAlCNVRMap/stringentRegionsChr1-YGenes.txt"
   ]
  }
 ],
 "metadata": {
  "kernelspec": {
   "display_name": "Python [conda env:paper-eqtls]",
   "language": "python",
   "name": "conda-env-paper-eqtls-py"
  },
  "language_info": {
   "codemirror_mode": {
    "name": "ipython",
    "version": 3
   },
   "file_extension": ".py",
   "mimetype": "text/x-python",
   "name": "python",
   "nbconvert_exporter": "python",
   "pygments_lexer": "ipython3",
   "version": "3.6.6"
  }
 },
 "nbformat": 4,
 "nbformat_minor": 4
}
